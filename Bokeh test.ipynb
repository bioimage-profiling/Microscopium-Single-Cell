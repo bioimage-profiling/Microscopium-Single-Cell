{
 "cells": [
  {
   "cell_type": "code",
   "execution_count": 1,
   "metadata": {},
   "outputs": [],
   "source": [
    "from pathlib import Path\n",
    "import numpy as np\n",
    "import pandas as pd"
   ]
  },
  {
   "cell_type": "code",
   "execution_count": 2,
   "id": "b0a401ec",
   "metadata": {},
   "outputs": [],
   "source": [
    "from math import ceil, sqrt"
   ]
  },
  {
   "cell_type": "code",
   "execution_count": 38,
   "id": "9c09c837",
   "metadata": {},
   "outputs": [],
   "source": [
    "n_images = 5\n",
    "sidelen = n_images\n",
    "step_size = 1 / sidelen\n",
    "grid_points_x = np.arange(0, 1 - step_size/2, step_size)\n",
    "grid_points_y = np.arange(0, 1 - step_size/2, step_size)\n",
    "start_xs, start_ys = np.meshgrid(grid_points_x, grid_points_y, indexing='ij')\n",
    "n_rows = 5\n",
    "step_sizes = np.full(n_rows, step_size)\n",
    "margin = 0.05 * step_size / 2\n",
    "\n"
   ]
  },
  {
   "cell_type": "code",
   "execution_count": 39,
   "id": "b3c55e99",
   "metadata": {},
   "outputs": [
    {
     "data": {
      "text/plain": [
       "(array([0., 0., 0., 0., 0.]),\n",
       " array([0. , 0. , 0. , 0. , 0. , 0.2, 0.2, 0.2, 0.2, 0.2, 0.4, 0.4, 0.4,\n",
       "        0.4, 0.4, 0.6, 0.6, 0.6, 0.6, 0.6, 0.8, 0.8, 0.8, 0.8, 0.8]))"
      ]
     },
     "execution_count": 39,
     "metadata": {},
     "output_type": "execute_result"
    }
   ],
   "source": [
    "start_xs.ravel()[:n_rows], start_xs.ravel()"
   ]
  },
  {
   "cell_type": "code",
   "execution_count": 40,
   "id": "10785c9e",
   "metadata": {},
   "outputs": [
    {
     "data": {
      "text/plain": [
       "(5, 0.2)"
      ]
     },
     "execution_count": 40,
     "metadata": {},
     "output_type": "execute_result"
    }
   ],
   "source": [
    "sidelen, step_size"
   ]
  },
  {
   "cell_type": "code",
   "execution_count": 41,
   "id": "d6fe3f66",
   "metadata": {},
   "outputs": [
    {
     "data": {
      "text/plain": [
       "array([0.        , 0.33333333, 0.66666667])"
      ]
     },
     "execution_count": 41,
     "metadata": {},
     "output_type": "execute_result"
    }
   ],
   "source": [
    "grid_points"
   ]
  },
  {
   "cell_type": "code",
   "execution_count": 42,
   "id": "3f3edbc4",
   "metadata": {},
   "outputs": [
    {
     "data": {
      "text/plain": [
       "array([[0. , 0. , 0. , 0. , 0. ],\n",
       "       [0.2, 0.2, 0.2, 0.2, 0.2],\n",
       "       [0.4, 0.4, 0.4, 0.4, 0.4],\n",
       "       [0.6, 0.6, 0.6, 0.6, 0.6],\n",
       "       [0.8, 0.8, 0.8, 0.8, 0.8]])"
      ]
     },
     "execution_count": 42,
     "metadata": {},
     "output_type": "execute_result"
    }
   ],
   "source": [
    "start_xs"
   ]
  },
  {
   "cell_type": "code",
   "execution_count": 43,
   "id": "d27e262f",
   "metadata": {},
   "outputs": [
    {
     "data": {
      "text/plain": [
       "array([[0. , 0.2, 0.4, 0.6, 0.8],\n",
       "       [0. , 0.2, 0.4, 0.6, 0.8],\n",
       "       [0. , 0.2, 0.4, 0.6, 0.8],\n",
       "       [0. , 0.2, 0.4, 0.6, 0.8],\n",
       "       [0. , 0.2, 0.4, 0.6, 0.8]])"
      ]
     },
     "execution_count": 43,
     "metadata": {},
     "output_type": "execute_result"
    }
   ],
   "source": [
    "start_ys"
   ]
  },
  {
   "cell_type": "code",
   "execution_count": 45,
   "id": "9d2cfe38",
   "metadata": {},
   "outputs": [
    {
     "data": {
      "text/plain": [
       "array([0. , 0.2, 0.4, 0.6, 0.8])"
      ]
     },
     "execution_count": 45,
     "metadata": {},
     "output_type": "execute_result"
    }
   ],
   "source": [
    "grid_points_x"
   ]
  }
 ],
 "metadata": {
  "kernelspec": {
   "display_name": "pytorch",
   "language": "python",
   "name": "python3"
  },
  "language_info": {
   "codemirror_mode": {
    "name": "ipython",
    "version": 3
   },
   "file_extension": ".py",
   "mimetype": "text/x-python",
   "name": "python",
   "nbconvert_exporter": "python",
   "pygments_lexer": "ipython3",
   "version": "3.8.10"
  },
  "vscode": {
   "interpreter": {
    "hash": "bbc7b1044a8c7781fecb7e1d033caa8f0305f8d930f85759ebaaf2fa08413c36"
   }
  }
 },
 "nbformat": 4,
 "nbformat_minor": 5
}
