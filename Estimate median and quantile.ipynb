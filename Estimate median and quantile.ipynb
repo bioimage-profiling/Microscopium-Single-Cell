{
 "cells": [
  {
   "cell_type": "code",
   "execution_count": 3,
   "id": "fc5a611c",
   "metadata": {},
   "outputs": [],
   "source": [
    "import numpy as np\n",
    "from skimage import io"
   ]
  },
  {
   "cell_type": "code",
   "execution_count": 4,
   "id": "f9605e7b",
   "metadata": {},
   "outputs": [],
   "source": [
    "import pandas as pd"
   ]
  },
  {
   "cell_type": "code",
   "execution_count": 5,
   "id": "fbbf7fd3",
   "metadata": {},
   "outputs": [],
   "source": [
    "from tqdm.auto import tqdm"
   ]
  },
  {
   "cell_type": "code",
   "execution_count": 6,
   "id": "28929c7e",
   "metadata": {},
   "outputs": [],
   "source": [
    "df = pd.read_csv('ea5_Julius/umap.csv', low_memory=False)"
   ]
  },
  {
   "cell_type": "code",
   "execution_count": 9,
   "id": "3a8c67a6",
   "metadata": {},
   "outputs": [
    {
     "name": "stdout",
     "output_type": "stream",
     "text": [
      "(52206, 22)\n"
     ]
    },
    {
     "data": {
      "text/html": [
       "<div>\n",
       "<style scoped>\n",
       "    .dataframe tbody tr th:only-of-type {\n",
       "        vertical-align: middle;\n",
       "    }\n",
       "\n",
       "    .dataframe tbody tr th {\n",
       "        vertical-align: top;\n",
       "    }\n",
       "\n",
       "    .dataframe thead th {\n",
       "        text-align: right;\n",
       "    }\n",
       "</style>\n",
       "<table border=\"1\" class=\"dataframe\">\n",
       "  <thead>\n",
       "    <tr style=\"text-align: right;\">\n",
       "      <th></th>\n",
       "      <th>NUCLEUS METCENTER-X</th>\n",
       "      <th>NUCLEUS METCENTER-Y</th>\n",
       "      <th>well</th>\n",
       "      <th>fov_256</th>\n",
       "      <th>donor</th>\n",
       "      <th>id</th>\n",
       "      <th>umap_x</th>\n",
       "      <th>umap_y</th>\n",
       "      <th>fov_64</th>\n",
       "      <th>resolution_x</th>\n",
       "      <th>...</th>\n",
       "      <th>center_y</th>\n",
       "      <th>centroid_x</th>\n",
       "      <th>centroid_y</th>\n",
       "      <th>image_name</th>\n",
       "      <th>image_path</th>\n",
       "      <th>c1_imgpath</th>\n",
       "      <th>c2_imgpath</th>\n",
       "      <th>c3_imgpath</th>\n",
       "      <th>c4_imgpath</th>\n",
       "      <th>c5_imgpath</th>\n",
       "    </tr>\n",
       "  </thead>\n",
       "  <tbody>\n",
       "    <tr>\n",
       "      <th>0</th>\n",
       "      <td>3799.229492</td>\n",
       "      <td>21876.675781</td>\n",
       "      <td>H2</td>\n",
       "      <td>159</td>\n",
       "      <td>AML1_M2</td>\n",
       "      <td>9</td>\n",
       "      <td>-1.207413</td>\n",
       "      <td>5.416854</td>\n",
       "      <td>39</td>\n",
       "      <td>0.149494</td>\n",
       "      <td>...</td>\n",
       "      <td>21767.972983</td>\n",
       "      <td>708.925877</td>\n",
       "      <td>1807.138106</td>\n",
       "      <td>p1_wH2_t1_m39_c1_z0_l1_o0.png</td>\n",
       "      <td>/mnt/fimm/EA5 Caroline/Julius_interactive plot...</td>\n",
       "      <td>/mnt/fimm/EA5 Caroline/Julius_interactive plot...</td>\n",
       "      <td>/mnt/fimm/EA5 Caroline/Julius_interactive plot...</td>\n",
       "      <td>/mnt/fimm/EA5 Caroline/Julius_interactive plot...</td>\n",
       "      <td>/mnt/fimm/EA5 Caroline/Julius_interactive plot...</td>\n",
       "      <td>/mnt/fimm/EA5 Caroline/Julius_interactive plot...</td>\n",
       "    </tr>\n",
       "    <tr>\n",
       "      <th>1</th>\n",
       "      <td>3905.091064</td>\n",
       "      <td>4040.277588</td>\n",
       "      <td>B2</td>\n",
       "      <td>234</td>\n",
       "      <td>AML1_M2</td>\n",
       "      <td>1</td>\n",
       "      <td>1.668570</td>\n",
       "      <td>5.921109</td>\n",
       "      <td>58</td>\n",
       "      <td>0.149494</td>\n",
       "      <td>...</td>\n",
       "      <td>4161.464855</td>\n",
       "      <td>1417.058363</td>\n",
       "      <td>269.350406</td>\n",
       "      <td>p1_wB2_t1_m58_c1_z0_l1_o0.png</td>\n",
       "      <td>/mnt/fimm/EA5 Caroline/Julius_interactive plot...</td>\n",
       "      <td>/mnt/fimm/EA5 Caroline/Julius_interactive plot...</td>\n",
       "      <td>/mnt/fimm/EA5 Caroline/Julius_interactive plot...</td>\n",
       "      <td>/mnt/fimm/EA5 Caroline/Julius_interactive plot...</td>\n",
       "      <td>/mnt/fimm/EA5 Caroline/Julius_interactive plot...</td>\n",
       "      <td>/mnt/fimm/EA5 Caroline/Julius_interactive plot...</td>\n",
       "    </tr>\n",
       "    <tr>\n",
       "      <th>2</th>\n",
       "      <td>3974.551758</td>\n",
       "      <td>4129.835938</td>\n",
       "      <td>B2</td>\n",
       "      <td>234</td>\n",
       "      <td>AML1_M2</td>\n",
       "      <td>7</td>\n",
       "      <td>-1.211912</td>\n",
       "      <td>5.889323</td>\n",
       "      <td>58</td>\n",
       "      <td>0.149494</td>\n",
       "      <td>...</td>\n",
       "      <td>4161.464855</td>\n",
       "      <td>1881.696971</td>\n",
       "      <td>868.426874</td>\n",
       "      <td>p1_wB2_t1_m58_c1_z0_l1_o0.png</td>\n",
       "      <td>/mnt/fimm/EA5 Caroline/Julius_interactive plot...</td>\n",
       "      <td>/mnt/fimm/EA5 Caroline/Julius_interactive plot...</td>\n",
       "      <td>/mnt/fimm/EA5 Caroline/Julius_interactive plot...</td>\n",
       "      <td>/mnt/fimm/EA5 Caroline/Julius_interactive plot...</td>\n",
       "      <td>/mnt/fimm/EA5 Caroline/Julius_interactive plot...</td>\n",
       "      <td>/mnt/fimm/EA5 Caroline/Julius_interactive plot...</td>\n",
       "    </tr>\n",
       "    <tr>\n",
       "      <th>3</th>\n",
       "      <td>3892.813477</td>\n",
       "      <td>4116.119629</td>\n",
       "      <td>B2</td>\n",
       "      <td>234</td>\n",
       "      <td>AML1_M2</td>\n",
       "      <td>12</td>\n",
       "      <td>-1.311539</td>\n",
       "      <td>5.806268</td>\n",
       "      <td>58</td>\n",
       "      <td>0.149494</td>\n",
       "      <td>...</td>\n",
       "      <td>4161.464855</td>\n",
       "      <td>1334.930745</td>\n",
       "      <td>776.675321</td>\n",
       "      <td>p1_wB2_t1_m58_c1_z0_l1_o0.png</td>\n",
       "      <td>/mnt/fimm/EA5 Caroline/Julius_interactive plot...</td>\n",
       "      <td>/mnt/fimm/EA5 Caroline/Julius_interactive plot...</td>\n",
       "      <td>/mnt/fimm/EA5 Caroline/Julius_interactive plot...</td>\n",
       "      <td>/mnt/fimm/EA5 Caroline/Julius_interactive plot...</td>\n",
       "      <td>/mnt/fimm/EA5 Caroline/Julius_interactive plot...</td>\n",
       "      <td>/mnt/fimm/EA5 Caroline/Julius_interactive plot...</td>\n",
       "    </tr>\n",
       "    <tr>\n",
       "      <th>4</th>\n",
       "      <td>3856.181641</td>\n",
       "      <td>4145.979980</td>\n",
       "      <td>B2</td>\n",
       "      <td>234</td>\n",
       "      <td>AML1_M2</td>\n",
       "      <td>16</td>\n",
       "      <td>3.439832</td>\n",
       "      <td>-0.883217</td>\n",
       "      <td>58</td>\n",
       "      <td>0.149494</td>\n",
       "      <td>...</td>\n",
       "      <td>4161.464855</td>\n",
       "      <td>1089.891941</td>\n",
       "      <td>976.418103</td>\n",
       "      <td>p1_wB2_t1_m58_c1_z0_l1_o0.png</td>\n",
       "      <td>/mnt/fimm/EA5 Caroline/Julius_interactive plot...</td>\n",
       "      <td>/mnt/fimm/EA5 Caroline/Julius_interactive plot...</td>\n",
       "      <td>/mnt/fimm/EA5 Caroline/Julius_interactive plot...</td>\n",
       "      <td>/mnt/fimm/EA5 Caroline/Julius_interactive plot...</td>\n",
       "      <td>/mnt/fimm/EA5 Caroline/Julius_interactive plot...</td>\n",
       "      <td>/mnt/fimm/EA5 Caroline/Julius_interactive plot...</td>\n",
       "    </tr>\n",
       "  </tbody>\n",
       "</table>\n",
       "<p>5 rows × 22 columns</p>\n",
       "</div>"
      ],
      "text/plain": [
       "   NUCLEUS METCENTER-X  NUCLEUS METCENTER-Y well  fov_256    donor  id  \\\n",
       "0          3799.229492         21876.675781   H2      159  AML1_M2   9   \n",
       "1          3905.091064          4040.277588   B2      234  AML1_M2   1   \n",
       "2          3974.551758          4129.835938   B2      234  AML1_M2   7   \n",
       "3          3892.813477          4116.119629   B2      234  AML1_M2  12   \n",
       "4          3856.181641          4145.979980   B2      234  AML1_M2  16   \n",
       "\n",
       "     umap_x    umap_y  fov_64  resolution_x  ...      center_y   centroid_x  \\\n",
       "0 -1.207413  5.416854      39      0.149494  ...  21767.972983   708.925877   \n",
       "1  1.668570  5.921109      58      0.149494  ...   4161.464855  1417.058363   \n",
       "2 -1.211912  5.889323      58      0.149494  ...   4161.464855  1881.696971   \n",
       "3 -1.311539  5.806268      58      0.149494  ...   4161.464855  1334.930745   \n",
       "4  3.439832 -0.883217      58      0.149494  ...   4161.464855  1089.891941   \n",
       "\n",
       "    centroid_y                     image_name  \\\n",
       "0  1807.138106  p1_wH2_t1_m39_c1_z0_l1_o0.png   \n",
       "1   269.350406  p1_wB2_t1_m58_c1_z0_l1_o0.png   \n",
       "2   868.426874  p1_wB2_t1_m58_c1_z0_l1_o0.png   \n",
       "3   776.675321  p1_wB2_t1_m58_c1_z0_l1_o0.png   \n",
       "4   976.418103  p1_wB2_t1_m58_c1_z0_l1_o0.png   \n",
       "\n",
       "                                          image_path  \\\n",
       "0  /mnt/fimm/EA5 Caroline/Julius_interactive plot...   \n",
       "1  /mnt/fimm/EA5 Caroline/Julius_interactive plot...   \n",
       "2  /mnt/fimm/EA5 Caroline/Julius_interactive plot...   \n",
       "3  /mnt/fimm/EA5 Caroline/Julius_interactive plot...   \n",
       "4  /mnt/fimm/EA5 Caroline/Julius_interactive plot...   \n",
       "\n",
       "                                          c1_imgpath  \\\n",
       "0  /mnt/fimm/EA5 Caroline/Julius_interactive plot...   \n",
       "1  /mnt/fimm/EA5 Caroline/Julius_interactive plot...   \n",
       "2  /mnt/fimm/EA5 Caroline/Julius_interactive plot...   \n",
       "3  /mnt/fimm/EA5 Caroline/Julius_interactive plot...   \n",
       "4  /mnt/fimm/EA5 Caroline/Julius_interactive plot...   \n",
       "\n",
       "                                          c2_imgpath  \\\n",
       "0  /mnt/fimm/EA5 Caroline/Julius_interactive plot...   \n",
       "1  /mnt/fimm/EA5 Caroline/Julius_interactive plot...   \n",
       "2  /mnt/fimm/EA5 Caroline/Julius_interactive plot...   \n",
       "3  /mnt/fimm/EA5 Caroline/Julius_interactive plot...   \n",
       "4  /mnt/fimm/EA5 Caroline/Julius_interactive plot...   \n",
       "\n",
       "                                          c3_imgpath  \\\n",
       "0  /mnt/fimm/EA5 Caroline/Julius_interactive plot...   \n",
       "1  /mnt/fimm/EA5 Caroline/Julius_interactive plot...   \n",
       "2  /mnt/fimm/EA5 Caroline/Julius_interactive plot...   \n",
       "3  /mnt/fimm/EA5 Caroline/Julius_interactive plot...   \n",
       "4  /mnt/fimm/EA5 Caroline/Julius_interactive plot...   \n",
       "\n",
       "                                          c4_imgpath  \\\n",
       "0  /mnt/fimm/EA5 Caroline/Julius_interactive plot...   \n",
       "1  /mnt/fimm/EA5 Caroline/Julius_interactive plot...   \n",
       "2  /mnt/fimm/EA5 Caroline/Julius_interactive plot...   \n",
       "3  /mnt/fimm/EA5 Caroline/Julius_interactive plot...   \n",
       "4  /mnt/fimm/EA5 Caroline/Julius_interactive plot...   \n",
       "\n",
       "                                          c5_imgpath  \n",
       "0  /mnt/fimm/EA5 Caroline/Julius_interactive plot...  \n",
       "1  /mnt/fimm/EA5 Caroline/Julius_interactive plot...  \n",
       "2  /mnt/fimm/EA5 Caroline/Julius_interactive plot...  \n",
       "3  /mnt/fimm/EA5 Caroline/Julius_interactive plot...  \n",
       "4  /mnt/fimm/EA5 Caroline/Julius_interactive plot...  \n",
       "\n",
       "[5 rows x 22 columns]"
      ]
     },
     "execution_count": 9,
     "metadata": {},
     "output_type": "execute_result"
    }
   ],
   "source": [
    "print(df.shape)\n",
    "df.head()"
   ]
  },
  {
   "cell_type": "markdown",
   "id": "31158adb",
   "metadata": {},
   "source": [
    "Calculate mean"
   ]
  },
  {
   "cell_type": "code",
   "execution_count": 26,
   "id": "582ffa53",
   "metadata": {},
   "outputs": [
    {
     "data": {
      "text/plain": [
       "(9331200,)"
      ]
     },
     "execution_count": 26,
     "metadata": {},
     "output_type": "execute_result"
    }
   ],
   "source": [
    "np.concatenate([images[images!=0],images[images!=0]]).shape"
   ]
  },
  {
   "cell_type": "code",
   "execution_count": 35,
   "id": "396bb28d",
   "metadata": {},
   "outputs": [
    {
     "data": {
      "application/vnd.jupyter.widget-view+json": {
       "model_id": "",
       "version_major": 2,
       "version_minor": 0
      },
      "text/plain": [
       "  0%|          | 0/5 [00:00<?, ?it/s]"
      ]
     },
     "metadata": {},
     "output_type": "display_data"
    },
    {
     "data": {
      "application/vnd.jupyter.widget-view+json": {
       "model_id": "",
       "version_major": 2,
       "version_minor": 0
      },
      "text/plain": [
       "  0%|          | 0/5 [00:00<?, ?it/s]"
      ]
     },
     "metadata": {},
     "output_type": "display_data"
    },
    {
     "name": "stdout",
     "output_type": "stream",
     "text": [
      "c1_imgpath median:  125.0 quantile:  3417.0\n"
     ]
    },
    {
     "data": {
      "application/vnd.jupyter.widget-view+json": {
       "model_id": "",
       "version_major": 2,
       "version_minor": 0
      },
      "text/plain": [
       "  0%|          | 0/5 [00:00<?, ?it/s]"
      ]
     },
     "metadata": {},
     "output_type": "display_data"
    },
    {
     "data": {
      "application/vnd.jupyter.widget-view+json": {
       "model_id": "",
       "version_major": 2,
       "version_minor": 0
      },
      "text/plain": [
       "  0%|          | 0/5 [00:00<?, ?it/s]"
      ]
     },
     "metadata": {},
     "output_type": "display_data"
    },
    {
     "name": "stdout",
     "output_type": "stream",
     "text": [
      "c2_imgpath median:  268.0 quantile:  326.5\n"
     ]
    },
    {
     "data": {
      "application/vnd.jupyter.widget-view+json": {
       "model_id": "",
       "version_major": 2,
       "version_minor": 0
      },
      "text/plain": [
       "  0%|          | 0/5 [00:00<?, ?it/s]"
      ]
     },
     "metadata": {},
     "output_type": "display_data"
    },
    {
     "data": {
      "application/vnd.jupyter.widget-view+json": {
       "model_id": "",
       "version_major": 2,
       "version_minor": 0
      },
      "text/plain": [
       "  0%|          | 0/5 [00:00<?, ?it/s]"
      ]
     },
     "metadata": {},
     "output_type": "display_data"
    },
    {
     "name": "stdout",
     "output_type": "stream",
     "text": [
      "c3_imgpath median:  182.0 quantile:  3509.5\n"
     ]
    },
    {
     "data": {
      "application/vnd.jupyter.widget-view+json": {
       "model_id": "",
       "version_major": 2,
       "version_minor": 0
      },
      "text/plain": [
       "  0%|          | 0/5 [00:00<?, ?it/s]"
      ]
     },
     "metadata": {},
     "output_type": "display_data"
    },
    {
     "data": {
      "application/vnd.jupyter.widget-view+json": {
       "model_id": "",
       "version_major": 2,
       "version_minor": 0
      },
      "text/plain": [
       "  0%|          | 0/5 [00:00<?, ?it/s]"
      ]
     },
     "metadata": {},
     "output_type": "display_data"
    },
    {
     "name": "stdout",
     "output_type": "stream",
     "text": [
      "c4_imgpath median:  547.5 quantile:  4819.0\n"
     ]
    },
    {
     "data": {
      "application/vnd.jupyter.widget-view+json": {
       "model_id": "",
       "version_major": 2,
       "version_minor": 0
      },
      "text/plain": [
       "  0%|          | 0/5 [00:00<?, ?it/s]"
      ]
     },
     "metadata": {},
     "output_type": "display_data"
    },
    {
     "data": {
      "application/vnd.jupyter.widget-view+json": {
       "model_id": "",
       "version_major": 2,
       "version_minor": 0
      },
      "text/plain": [
       "  0%|          | 0/5 [00:00<?, ?it/s]"
      ]
     },
     "metadata": {},
     "output_type": "display_data"
    },
    {
     "name": "stdout",
     "output_type": "stream",
     "text": [
      "c5_imgpath median:  123.0 quantile:  3643.5\n"
     ]
    }
   ],
   "source": [
    "for col in ['c1_imgpath', 'c2_imgpath', 'c3_imgpath', 'c4_imgpath', 'c5_imgpath']:\n",
    "    images = np.expand_dims(io.imread(df[col].iloc[0]), axis=0)\n",
    "    images = images[images!=0]\n",
    "    medians = []\n",
    "    quantiles = []\n",
    "    for k in range(10):\n",
    "        for imgpath in tqdm(df.sample(10)[col].unique()):          \n",
    "            image = io.imread(imgpath)\n",
    "            image = image[image!=0]\n",
    "            images = np.concatenate((images, image))\n",
    "        medians.append(np.median(images))\n",
    "        quantiles.append(np.quantile(images, 0.995))\n",
    "    print(col, 'median: ', np.array(medians).mean(), 'quantile: ', np.array(quantiles).mean())"
   ]
  },
  {
   "cell_type": "code",
   "execution_count": 38,
   "id": "49a8e751",
   "metadata": {},
   "outputs": [
    {
     "name": "stdout",
     "output_type": "stream",
     "text": [
      "c1_imgpath median:  128.9 quantile:  3442.8\n",
      "c2_imgpath median:  260.0 quantile:  314.7\n",
      "c3_imgpath median:  179.6 quantile:  3662.9\n",
      "c4_imgpath median:  496.9 quantile:  4941.6\n",
      "c5_imgpath median:  124.9 quantile:  3882.3\n"
     ]
    }
   ],
   "source": [
    "for col in ['c1_imgpath', 'c2_imgpath', 'c3_imgpath', 'c4_imgpath', 'c5_imgpath']:\n",
    "    images = np.expand_dims(io.imread(df[col].iloc[0]), axis=0)\n",
    "    images = images[images!=0]\n",
    "    medians = []\n",
    "    quantiles = []\n",
    "    for k in range(10):\n",
    "        for imgpath in df.sample(10)[col].unique():          \n",
    "            image = io.imread(imgpath)\n",
    "            image = image[image!=0]\n",
    "            images = np.concatenate((images, image))\n",
    "        medians.append(np.median(images))\n",
    "        quantiles.append(np.quantile(images, 0.995))\n",
    "    print(col, 'median: ', np.array(medians).mean(), 'quantile: ', np.array(quantiles).mean())"
   ]
  },
  {
   "cell_type": "code",
   "execution_count": 39,
   "id": "81fc2845",
   "metadata": {},
   "outputs": [
    {
     "name": "stdout",
     "output_type": "stream",
     "text": [
      "c1_imgpath median:  127.5 quantile:  3500.6\n",
      "c2_imgpath median:  261.7 quantile:  317.8\n",
      "c3_imgpath median:  174.4 quantile:  3651.3\n",
      "c4_imgpath median:  506.7 quantile:  4563.2\n",
      "c5_imgpath median:  124.7 quantile:  3771.9\n"
     ]
    }
   ],
   "source": [
    "for col in ['c1_imgpath', 'c2_imgpath', 'c3_imgpath', 'c4_imgpath', 'c5_imgpath']:\n",
    "    images = np.expand_dims(io.imread(df[col].iloc[0]), axis=0)\n",
    "    images = images[images!=0]\n",
    "    medians = []\n",
    "    quantiles = []\n",
    "    for k in range(10):\n",
    "        for imgpath in df.sample(10)[col].unique():          \n",
    "            image = io.imread(imgpath)\n",
    "            image = image[image!=0]\n",
    "            images = np.concatenate((images, image))\n",
    "        medians.append(np.median(images))\n",
    "        quantiles.append(np.quantile(images, 0.995))\n",
    "    print(col, 'median: ', np.array(medians).mean(), 'quantile: ', np.array(quantiles).mean())"
   ]
  },
  {
   "cell_type": "code",
   "execution_count": null,
   "id": "c1e018d1",
   "metadata": {},
   "outputs": [],
   "source": []
  }
 ],
 "metadata": {
  "kernelspec": {
   "display_name": "Python 3 (ipykernel)",
   "language": "python",
   "name": "python3"
  },
  "language_info": {
   "codemirror_mode": {
    "name": "ipython",
    "version": 3
   },
   "file_extension": ".py",
   "mimetype": "text/x-python",
   "name": "python",
   "nbconvert_exporter": "python",
   "pygments_lexer": "ipython3",
   "version": "3.8.10"
  }
 },
 "nbformat": 4,
 "nbformat_minor": 5
}
