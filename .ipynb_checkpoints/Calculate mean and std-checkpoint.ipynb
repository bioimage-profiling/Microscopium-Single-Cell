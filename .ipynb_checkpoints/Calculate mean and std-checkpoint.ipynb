{
 "cells": [
  {
   "cell_type": "code",
   "execution_count": 3,
   "id": "fc5a611c",
   "metadata": {},
   "outputs": [],
   "source": [
    "import numpy as np\n",
    "from skimage import io"
   ]
  },
  {
   "cell_type": "code",
   "execution_count": 4,
   "id": "f9605e7b",
   "metadata": {},
   "outputs": [],
   "source": [
    "import pandas as pd"
   ]
  },
  {
   "cell_type": "code",
   "execution_count": 5,
   "id": "fbbf7fd3",
   "metadata": {},
   "outputs": [],
   "source": [
    "from tqdm.auto import tqdm"
   ]
  },
  {
   "cell_type": "code",
   "execution_count": 6,
   "id": "28929c7e",
   "metadata": {},
   "outputs": [],
   "source": [
    "df = pd.read_csv('ea5_Julius/umap.csv', low_memory=False)"
   ]
  },
  {
   "cell_type": "code",
   "execution_count": 9,
   "id": "3a8c67a6",
   "metadata": {},
   "outputs": [
    {
     "name": "stdout",
     "output_type": "stream",
     "text": [
      "(52206, 22)\n"
     ]
    },
    {
     "data": {
      "text/html": [
       "<div>\n",
       "<style scoped>\n",
       "    .dataframe tbody tr th:only-of-type {\n",
       "        vertical-align: middle;\n",
       "    }\n",
       "\n",
       "    .dataframe tbody tr th {\n",
       "        vertical-align: top;\n",
       "    }\n",
       "\n",
       "    .dataframe thead th {\n",
       "        text-align: right;\n",
       "    }\n",
       "</style>\n",
       "<table border=\"1\" class=\"dataframe\">\n",
       "  <thead>\n",
       "    <tr style=\"text-align: right;\">\n",
       "      <th></th>\n",
       "      <th>NUCLEUS METCENTER-X</th>\n",
       "      <th>NUCLEUS METCENTER-Y</th>\n",
       "      <th>well</th>\n",
       "      <th>fov_256</th>\n",
       "      <th>donor</th>\n",
       "      <th>id</th>\n",
       "      <th>umap_x</th>\n",
       "      <th>umap_y</th>\n",
       "      <th>fov_64</th>\n",
       "      <th>resolution_x</th>\n",
       "      <th>...</th>\n",
       "      <th>center_y</th>\n",
       "      <th>centroid_x</th>\n",
       "      <th>centroid_y</th>\n",
       "      <th>image_name</th>\n",
       "      <th>image_path</th>\n",
       "      <th>c1_imgpath</th>\n",
       "      <th>c2_imgpath</th>\n",
       "      <th>c3_imgpath</th>\n",
       "      <th>c4_imgpath</th>\n",
       "      <th>c5_imgpath</th>\n",
       "    </tr>\n",
       "  </thead>\n",
       "  <tbody>\n",
       "    <tr>\n",
       "      <th>0</th>\n",
       "      <td>3799.229492</td>\n",
       "      <td>21876.675781</td>\n",
       "      <td>H2</td>\n",
       "      <td>159</td>\n",
       "      <td>AML1_M2</td>\n",
       "      <td>9</td>\n",
       "      <td>-1.207413</td>\n",
       "      <td>5.416854</td>\n",
       "      <td>39</td>\n",
       "      <td>0.149494</td>\n",
       "      <td>...</td>\n",
       "      <td>21767.972983</td>\n",
       "      <td>708.925877</td>\n",
       "      <td>1807.138106</td>\n",
       "      <td>p1_wH2_t1_m39_c1_z0_l1_o0.png</td>\n",
       "      <td>/mnt/fimm/EA5 Caroline/Julius_interactive plot...</td>\n",
       "      <td>/mnt/fimm/EA5 Caroline/Julius_interactive plot...</td>\n",
       "      <td>/mnt/fimm/EA5 Caroline/Julius_interactive plot...</td>\n",
       "      <td>/mnt/fimm/EA5 Caroline/Julius_interactive plot...</td>\n",
       "      <td>/mnt/fimm/EA5 Caroline/Julius_interactive plot...</td>\n",
       "      <td>/mnt/fimm/EA5 Caroline/Julius_interactive plot...</td>\n",
       "    </tr>\n",
       "    <tr>\n",
       "      <th>1</th>\n",
       "      <td>3905.091064</td>\n",
       "      <td>4040.277588</td>\n",
       "      <td>B2</td>\n",
       "      <td>234</td>\n",
       "      <td>AML1_M2</td>\n",
       "      <td>1</td>\n",
       "      <td>1.668570</td>\n",
       "      <td>5.921109</td>\n",
       "      <td>58</td>\n",
       "      <td>0.149494</td>\n",
       "      <td>...</td>\n",
       "      <td>4161.464855</td>\n",
       "      <td>1417.058363</td>\n",
       "      <td>269.350406</td>\n",
       "      <td>p1_wB2_t1_m58_c1_z0_l1_o0.png</td>\n",
       "      <td>/mnt/fimm/EA5 Caroline/Julius_interactive plot...</td>\n",
       "      <td>/mnt/fimm/EA5 Caroline/Julius_interactive plot...</td>\n",
       "      <td>/mnt/fimm/EA5 Caroline/Julius_interactive plot...</td>\n",
       "      <td>/mnt/fimm/EA5 Caroline/Julius_interactive plot...</td>\n",
       "      <td>/mnt/fimm/EA5 Caroline/Julius_interactive plot...</td>\n",
       "      <td>/mnt/fimm/EA5 Caroline/Julius_interactive plot...</td>\n",
       "    </tr>\n",
       "    <tr>\n",
       "      <th>2</th>\n",
       "      <td>3974.551758</td>\n",
       "      <td>4129.835938</td>\n",
       "      <td>B2</td>\n",
       "      <td>234</td>\n",
       "      <td>AML1_M2</td>\n",
       "      <td>7</td>\n",
       "      <td>-1.211912</td>\n",
       "      <td>5.889323</td>\n",
       "      <td>58</td>\n",
       "      <td>0.149494</td>\n",
       "      <td>...</td>\n",
       "      <td>4161.464855</td>\n",
       "      <td>1881.696971</td>\n",
       "      <td>868.426874</td>\n",
       "      <td>p1_wB2_t1_m58_c1_z0_l1_o0.png</td>\n",
       "      <td>/mnt/fimm/EA5 Caroline/Julius_interactive plot...</td>\n",
       "      <td>/mnt/fimm/EA5 Caroline/Julius_interactive plot...</td>\n",
       "      <td>/mnt/fimm/EA5 Caroline/Julius_interactive plot...</td>\n",
       "      <td>/mnt/fimm/EA5 Caroline/Julius_interactive plot...</td>\n",
       "      <td>/mnt/fimm/EA5 Caroline/Julius_interactive plot...</td>\n",
       "      <td>/mnt/fimm/EA5 Caroline/Julius_interactive plot...</td>\n",
       "    </tr>\n",
       "    <tr>\n",
       "      <th>3</th>\n",
       "      <td>3892.813477</td>\n",
       "      <td>4116.119629</td>\n",
       "      <td>B2</td>\n",
       "      <td>234</td>\n",
       "      <td>AML1_M2</td>\n",
       "      <td>12</td>\n",
       "      <td>-1.311539</td>\n",
       "      <td>5.806268</td>\n",
       "      <td>58</td>\n",
       "      <td>0.149494</td>\n",
       "      <td>...</td>\n",
       "      <td>4161.464855</td>\n",
       "      <td>1334.930745</td>\n",
       "      <td>776.675321</td>\n",
       "      <td>p1_wB2_t1_m58_c1_z0_l1_o0.png</td>\n",
       "      <td>/mnt/fimm/EA5 Caroline/Julius_interactive plot...</td>\n",
       "      <td>/mnt/fimm/EA5 Caroline/Julius_interactive plot...</td>\n",
       "      <td>/mnt/fimm/EA5 Caroline/Julius_interactive plot...</td>\n",
       "      <td>/mnt/fimm/EA5 Caroline/Julius_interactive plot...</td>\n",
       "      <td>/mnt/fimm/EA5 Caroline/Julius_interactive plot...</td>\n",
       "      <td>/mnt/fimm/EA5 Caroline/Julius_interactive plot...</td>\n",
       "    </tr>\n",
       "    <tr>\n",
       "      <th>4</th>\n",
       "      <td>3856.181641</td>\n",
       "      <td>4145.979980</td>\n",
       "      <td>B2</td>\n",
       "      <td>234</td>\n",
       "      <td>AML1_M2</td>\n",
       "      <td>16</td>\n",
       "      <td>3.439832</td>\n",
       "      <td>-0.883217</td>\n",
       "      <td>58</td>\n",
       "      <td>0.149494</td>\n",
       "      <td>...</td>\n",
       "      <td>4161.464855</td>\n",
       "      <td>1089.891941</td>\n",
       "      <td>976.418103</td>\n",
       "      <td>p1_wB2_t1_m58_c1_z0_l1_o0.png</td>\n",
       "      <td>/mnt/fimm/EA5 Caroline/Julius_interactive plot...</td>\n",
       "      <td>/mnt/fimm/EA5 Caroline/Julius_interactive plot...</td>\n",
       "      <td>/mnt/fimm/EA5 Caroline/Julius_interactive plot...</td>\n",
       "      <td>/mnt/fimm/EA5 Caroline/Julius_interactive plot...</td>\n",
       "      <td>/mnt/fimm/EA5 Caroline/Julius_interactive plot...</td>\n",
       "      <td>/mnt/fimm/EA5 Caroline/Julius_interactive plot...</td>\n",
       "    </tr>\n",
       "  </tbody>\n",
       "</table>\n",
       "<p>5 rows × 22 columns</p>\n",
       "</div>"
      ],
      "text/plain": [
       "   NUCLEUS METCENTER-X  NUCLEUS METCENTER-Y well  fov_256    donor  id  \\\n",
       "0          3799.229492         21876.675781   H2      159  AML1_M2   9   \n",
       "1          3905.091064          4040.277588   B2      234  AML1_M2   1   \n",
       "2          3974.551758          4129.835938   B2      234  AML1_M2   7   \n",
       "3          3892.813477          4116.119629   B2      234  AML1_M2  12   \n",
       "4          3856.181641          4145.979980   B2      234  AML1_M2  16   \n",
       "\n",
       "     umap_x    umap_y  fov_64  resolution_x  ...      center_y   centroid_x  \\\n",
       "0 -1.207413  5.416854      39      0.149494  ...  21767.972983   708.925877   \n",
       "1  1.668570  5.921109      58      0.149494  ...   4161.464855  1417.058363   \n",
       "2 -1.211912  5.889323      58      0.149494  ...   4161.464855  1881.696971   \n",
       "3 -1.311539  5.806268      58      0.149494  ...   4161.464855  1334.930745   \n",
       "4  3.439832 -0.883217      58      0.149494  ...   4161.464855  1089.891941   \n",
       "\n",
       "    centroid_y                     image_name  \\\n",
       "0  1807.138106  p1_wH2_t1_m39_c1_z0_l1_o0.png   \n",
       "1   269.350406  p1_wB2_t1_m58_c1_z0_l1_o0.png   \n",
       "2   868.426874  p1_wB2_t1_m58_c1_z0_l1_o0.png   \n",
       "3   776.675321  p1_wB2_t1_m58_c1_z0_l1_o0.png   \n",
       "4   976.418103  p1_wB2_t1_m58_c1_z0_l1_o0.png   \n",
       "\n",
       "                                          image_path  \\\n",
       "0  /mnt/fimm/EA5 Caroline/Julius_interactive plot...   \n",
       "1  /mnt/fimm/EA5 Caroline/Julius_interactive plot...   \n",
       "2  /mnt/fimm/EA5 Caroline/Julius_interactive plot...   \n",
       "3  /mnt/fimm/EA5 Caroline/Julius_interactive plot...   \n",
       "4  /mnt/fimm/EA5 Caroline/Julius_interactive plot...   \n",
       "\n",
       "                                          c1_imgpath  \\\n",
       "0  /mnt/fimm/EA5 Caroline/Julius_interactive plot...   \n",
       "1  /mnt/fimm/EA5 Caroline/Julius_interactive plot...   \n",
       "2  /mnt/fimm/EA5 Caroline/Julius_interactive plot...   \n",
       "3  /mnt/fimm/EA5 Caroline/Julius_interactive plot...   \n",
       "4  /mnt/fimm/EA5 Caroline/Julius_interactive plot...   \n",
       "\n",
       "                                          c2_imgpath  \\\n",
       "0  /mnt/fimm/EA5 Caroline/Julius_interactive plot...   \n",
       "1  /mnt/fimm/EA5 Caroline/Julius_interactive plot...   \n",
       "2  /mnt/fimm/EA5 Caroline/Julius_interactive plot...   \n",
       "3  /mnt/fimm/EA5 Caroline/Julius_interactive plot...   \n",
       "4  /mnt/fimm/EA5 Caroline/Julius_interactive plot...   \n",
       "\n",
       "                                          c3_imgpath  \\\n",
       "0  /mnt/fimm/EA5 Caroline/Julius_interactive plot...   \n",
       "1  /mnt/fimm/EA5 Caroline/Julius_interactive plot...   \n",
       "2  /mnt/fimm/EA5 Caroline/Julius_interactive plot...   \n",
       "3  /mnt/fimm/EA5 Caroline/Julius_interactive plot...   \n",
       "4  /mnt/fimm/EA5 Caroline/Julius_interactive plot...   \n",
       "\n",
       "                                          c4_imgpath  \\\n",
       "0  /mnt/fimm/EA5 Caroline/Julius_interactive plot...   \n",
       "1  /mnt/fimm/EA5 Caroline/Julius_interactive plot...   \n",
       "2  /mnt/fimm/EA5 Caroline/Julius_interactive plot...   \n",
       "3  /mnt/fimm/EA5 Caroline/Julius_interactive plot...   \n",
       "4  /mnt/fimm/EA5 Caroline/Julius_interactive plot...   \n",
       "\n",
       "                                          c5_imgpath  \n",
       "0  /mnt/fimm/EA5 Caroline/Julius_interactive plot...  \n",
       "1  /mnt/fimm/EA5 Caroline/Julius_interactive plot...  \n",
       "2  /mnt/fimm/EA5 Caroline/Julius_interactive plot...  \n",
       "3  /mnt/fimm/EA5 Caroline/Julius_interactive plot...  \n",
       "4  /mnt/fimm/EA5 Caroline/Julius_interactive plot...  \n",
       "\n",
       "[5 rows x 22 columns]"
      ]
     },
     "execution_count": 9,
     "metadata": {},
     "output_type": "execute_result"
    }
   ],
   "source": [
    "print(df.shape)\n",
    "df.head()"
   ]
  },
  {
   "cell_type": "markdown",
   "id": "31158adb",
   "metadata": {},
   "source": [
    "Calculate mean"
   ]
  },
  {
   "cell_type": "code",
   "execution_count": 14,
   "id": "e14789e0",
   "metadata": {},
   "outputs": [
    {
     "data": {
      "text/plain": [
       "((52206, 22), (3491,))"
      ]
     },
     "execution_count": 14,
     "metadata": {},
     "output_type": "execute_result"
    }
   ],
   "source": [
    "df.shape, df[col].unique().shape"
   ]
  },
  {
   "cell_type": "code",
   "execution_count": null,
   "id": "ca8886af",
   "metadata": {},
   "outputs": [
    {
     "data": {
      "application/vnd.jupyter.widget-view+json": {
       "model_id": "eb561ffa2e1040eba6316aeacff525d5",
       "version_major": 2,
       "version_minor": 0
      },
      "text/plain": [
       "  0%|          | 0/3491 [00:00<?, ?it/s]"
      ]
     },
     "metadata": {},
     "output_type": "display_data"
    }
   ],
   "source": [
    "means = {}\n",
    "for col in ['c1_imgpath', 'c2_imgpath', 'c3_imgpath', 'c4_imgpath', 'c5_imgpath']:\n",
    "    means[col] = 0\n",
    "    for imgpath in tqdm(df[col].unique()):\n",
    "        img = io.imread(imgpath)\n",
    "        means[col] += np.mean(img)\n",
    "    means[col] = means[col] / df[col].size\n",
    "print(means)"
   ]
  },
  {
   "cell_type": "code",
   "execution_count": null,
   "id": "ba43ea54",
   "metadata": {},
   "outputs": [],
   "source": [
    "mean"
   ]
  },
  {
   "cell_type": "markdown",
   "id": "d282bf6b",
   "metadata": {},
   "source": [
    "Calculate std"
   ]
  },
  {
   "cell_type": "code",
   "execution_count": null,
   "id": "d5ad6614",
   "metadata": {},
   "outputs": [],
   "source": [
    "stds = {}\n",
    "for col in ['c1_imgpath', 'c2_imgpath', 'c3_imgpath', 'c4_imgpath', 'c5_imgpath']:\n",
    "    for imgpath in tqdm(df[col].unique()):\n",
    "        img = io.imread(imgpath)\n",
    "        stdTemp += ((img - means[col])**2).sum() / (img.shape[0]*img.shape[1])\n",
    "    stds[col] = np.sqrt(stdTemp/df[col].size)\n",
    "print(stds)"
   ]
  },
  {
   "cell_type": "code",
   "execution_count": null,
   "id": "7be85e63",
   "metadata": {},
   "outputs": [],
   "source": [
    "for i, imgpath in enumerate(tqdm(df.imagepath)):\n",
    "    img = io.imread(str(imgpath))\n",
    "    stdTemp += ((img - mean)**2).sum() / (img.shape[0]*img.shape[1])\n",
    "std = np.sqrt(stdTemp/df.imagepath.size)"
   ]
  },
  {
   "cell_type": "code",
   "execution_count": null,
   "id": "c9583051",
   "metadata": {},
   "outputs": [],
   "source": [
    "std"
   ]
  }
 ],
 "metadata": {
  "kernelspec": {
   "display_name": "Python 3 (ipykernel)",
   "language": "python",
   "name": "python3"
  },
  "language_info": {
   "codemirror_mode": {
    "name": "ipython",
    "version": 3
   },
   "file_extension": ".py",
   "mimetype": "text/x-python",
   "name": "python",
   "nbconvert_exporter": "python",
   "pygments_lexer": "ipython3",
   "version": "3.8.10"
  }
 },
 "nbformat": 4,
 "nbformat_minor": 5
}
