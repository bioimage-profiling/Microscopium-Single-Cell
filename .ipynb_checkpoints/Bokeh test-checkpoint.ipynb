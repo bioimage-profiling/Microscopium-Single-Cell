{
 "cells": [
  {
   "cell_type": "code",
   "execution_count": 1,
   "id": "3d8fecc9",
   "metadata": {},
   "outputs": [],
   "source": [
    "from pathlib import Path\n",
    "\n",
    "import numpy as np\n",
    "import pandas as pd"
   ]
  },
  {
   "cell_type": "code",
   "execution_count": 2,
   "id": "b0a401ec",
   "metadata": {},
   "outputs": [],
   "source": [
    "from math import ceil, sqrt"
   ]
  },
  {
   "cell_type": "code",
   "execution_count": 15,
   "id": "9c09c837",
   "metadata": {},
   "outputs": [],
   "source": [
    "n_images = 5\n",
    "sidelen = n_images\n",
    "step_size = 1 / sidelen\n",
    "grid_points_x = np.arange(0, 1 - step_size/2, step_size)\n",
    "grid_points_y = np.arange(0, 1 - step_size/2, step_size)\n",
    "start_xs, start_ys = np.meshgrid(grid_points_x, grid_points_y, indexing='ij')\n",
    "n_rows = 5\n",
    "step_sizes = np.full(n_rows, step_size)\n",
    "margin = 0.05 * step_size / 2\n",
    "\n"
   ]
  },
  {
   "cell_type": "code",
   "execution_count": 17,
   "id": "ae40f18c",
   "metadata": {},
   "outputs": [],
   "source": [
    "# Set sidelen to number of channels (NB! Only number of samples equal to the number of channels will be shown)\n",
    "sidelen_x = 5 # 5x5 meshgrid\n",
    "sidelen_y = 3 # 5x5 meshgrid\n",
    "step_size_x = 1 / sidelen_x # stepsize for x axis\n",
    "step_size_y = 1 / sidelen_y # stepsize for y axis\n",
    "grid_points_x = np.arange(0, 1 - step_size_x/2, step_size_x) # 5 grid points\n",
    "grid_points_y = np.arange(0, 1 - step_size_y/2, step_size_y) # 5 grid points\n",
    "start_xs, start_ys = np.meshgrid(grid_points_x, grid_points_y, indexing='ij') # start x, y for each grid\n",
    "# n_rows = len(images) # number of rows that the images will occupy\n",
    "n_rows = sidelen_x*sidelen_y # number of rows that the images will occupy\n",
    "step_sizes_x = np.full(n_rows, step_size_x)\n",
    "step_sizes_y = np.full(n_rows, step_size_y)\n",
    "margin_x = 0.05 * step_size_x / 2\n",
    "margin_y = 0.05 * step_size_y / 2"
   ]
  },
  {
   "cell_type": "code",
   "execution_count": 20,
   "id": "a77196bf",
   "metadata": {},
   "outputs": [
    {
     "data": {
      "text/plain": [
       "(array([0. , 0.2, 0.4, 0.6, 0.8]), array([0.        , 0.33333333, 0.66666667]))"
      ]
     },
     "execution_count": 20,
     "metadata": {},
     "output_type": "execute_result"
    }
   ],
   "source": [
    "grid_points_x, grid_points_y"
   ]
  },
  {
   "cell_type": "code",
   "execution_count": 1,
   "id": "2cbc2a42",
   "metadata": {},
   "outputs": [
    {
     "ename": "ModuleNotFoundError",
     "evalue": "No module named 'bokeh'",
     "output_type": "error",
     "traceback": [
      "\u001b[0;31m---------------------------------------------------------------------------\u001b[0m",
      "\u001b[0;31mModuleNotFoundError\u001b[0m                       Traceback (most recent call last)",
      "Input \u001b[0;32mIn [1]\u001b[0m, in \u001b[0;36m<cell line: 1>\u001b[0;34m()\u001b[0m\n\u001b[0;32m----> 1\u001b[0m \u001b[38;5;28;01mfrom\u001b[39;00m \u001b[38;5;21;01mbokeh\u001b[39;00m\u001b[38;5;21;01m.\u001b[39;00m\u001b[38;5;21;01mio\u001b[39;00m \u001b[38;5;28;01mimport\u001b[39;00m output_file, show\n\u001b[1;32m      2\u001b[0m \u001b[38;5;28;01mfrom\u001b[39;00m \u001b[38;5;21;01mbokeh\u001b[39;00m\u001b[38;5;21;01m.\u001b[39;00m\u001b[38;5;21;01mlayouts\u001b[39;00m \u001b[38;5;28;01mimport\u001b[39;00m gridplot\n\u001b[1;32m      3\u001b[0m \u001b[38;5;28;01mfrom\u001b[39;00m \u001b[38;5;21;01mbokeh\u001b[39;00m\u001b[38;5;21;01m.\u001b[39;00m\u001b[38;5;21;01mplotting\u001b[39;00m \u001b[38;5;28;01mimport\u001b[39;00m figure\n",
      "\u001b[0;31mModuleNotFoundError\u001b[0m: No module named 'bokeh'"
     ]
    }
   ],
   "source": [
    "from bokeh.io import output_file, show\n",
    "from bokeh.layouts import gridplot\n",
    "from bokeh.plotting import figure\n",
    "\n",
    "output_file(\"layout_grid.html\")\n",
    "\n",
    "x = list(range(11))\n",
    "y0 = x\n",
    "y1 = [10 - i for i in x]\n",
    "y2 = [abs(i - 5) for i in x]\n",
    "\n",
    "# create three plots\n",
    "s1 = figure(background_fill_color=\"#fafafa\")\n",
    "s1.circle(x, y0, size=12, alpha=0.8, color=\"#53777a\")\n",
    "\n",
    "s2 = figure(background_fill_color=\"#fafafa\")\n",
    "s2.triangle(x, y1, size=12, alpha=0.8, color=\"#c02942\")\n",
    "\n",
    "s3 = figure(background_fill_color=\"#fafafa\")\n",
    "s3.square(x, y2, size=12, alpha=0.8, color=\"#d95b43\")\n",
    "\n",
    "# make a grid\n",
    "grid = gridplot([[s1, s2], [None, s3]], width=250, height=250)\n",
    "\n",
    "show(grid)"
   ]
  },
  {
   "cell_type": "code",
   "execution_count": null,
   "id": "e3b7245c",
   "metadata": {},
   "outputs": [],
   "source": [
    "from bokeh.application import Application"
   ]
  },
  {
   "cell_type": "code",
   "execution_count": null,
   "id": "dfc56845",
   "metadata": {},
   "outputs": [],
   "source": []
  }
 ],
 "metadata": {
  "interpreter": {
   "hash": "b0fa6594d8f4cbf19f97940f81e996739fb7646882a419484c72d19e05852a7e"
  },
  "kernelspec": {
   "display_name": "Python 3 (ipykernel)",
   "language": "python",
   "name": "python3"
  },
  "language_info": {
   "codemirror_mode": {
    "name": "ipython",
    "version": 3
   },
   "file_extension": ".py",
   "mimetype": "text/x-python",
   "name": "python",
   "nbconvert_exporter": "python",
   "pygments_lexer": "ipython3",
   "version": "3.9.10"
  },
  "vscode": {
   "interpreter": {
    "hash": "bbc7b1044a8c7781fecb7e1d033caa8f0305f8d930f85759ebaaf2fa08413c36"
   }
  }
 },
 "nbformat": 4,
 "nbformat_minor": 5
}
